{
 "cells": [
  {
   "cell_type": "code",
   "execution_count": 1,
   "metadata": {},
   "outputs": [],
   "source": [
    "import pandas as pd\n",
    "import os"
   ]
  },
  {
   "cell_type": "markdown",
   "metadata": {},
   "source": [
    "## import file\n",
    "change the output directory, the filename and the url according to the file you are working with\n",
    "pay attention to use the **raw** url from github\n",
    "Note: due to the token the url of the file changes, so it may have to be updated"
   ]
  },
  {
   "cell_type": "code",
   "execution_count": null,
   "metadata": {},
   "outputs": [],
   "source": [
    "directory = \"/groups/gerlich/members/ZsuzsannaTakacs/DataScience/PythonBookClub/Tidy_data_Homework/Localinput/\"\n",
    "df = pd.read_csv(os.path.join(directory, \"Area.txt\"))"
   ]
  },
  {
   "cell_type": "code",
   "execution_count": 14,
   "metadata": {},
   "outputs": [],
   "source": [
    "for filename in os.listdir(directory):\n",
    "    if filename.endswith('txt'):\n",
    "        with open(os.path.join(directory, filename)) as f:\n",
    "            df = pd.read_csv(f, sep = '\\t')\n",
    "            df = pd.melt(df, id_vars = \"Absolute time\", var_name='trace')\n",
    "            df['trace'] = df['trace'].str.replace('Trace', '').astype('float')\n",
    "            df.to_csv(os.path.join(directory, f'{filename}_tidy.csv'), index = False)"
   ]
  },
  {
   "cell_type": "code",
   "execution_count": 10,
   "metadata": {},
   "outputs": [
    {
     "data": {
      "text/html": [
       "<div>\n",
       "<style scoped>\n",
       "    .dataframe tbody tr th:only-of-type {\n",
       "        vertical-align: middle;\n",
       "    }\n",
       "\n",
       "    .dataframe tbody tr th {\n",
       "        vertical-align: top;\n",
       "    }\n",
       "\n",
       "    .dataframe thead th {\n",
       "        text-align: right;\n",
       "    }\n",
       "</style>\n",
       "<table border=\"1\" class=\"dataframe\">\n",
       "  <thead>\n",
       "    <tr style=\"text-align: right;\">\n",
       "      <th></th>\n",
       "      <th>Absolute time</th>\n",
       "      <th>trace</th>\n",
       "      <th>value</th>\n",
       "    </tr>\n",
       "  </thead>\n",
       "  <tbody>\n",
       "    <tr>\n",
       "      <th>0</th>\n",
       "      <td>0</td>\n",
       "      <td>140.0</td>\n",
       "      <td>10.174491</td>\n",
       "    </tr>\n",
       "    <tr>\n",
       "      <th>1</th>\n",
       "      <td>1</td>\n",
       "      <td>140.0</td>\n",
       "      <td>10.353073</td>\n",
       "    </tr>\n",
       "    <tr>\n",
       "      <th>2</th>\n",
       "      <td>2</td>\n",
       "      <td>140.0</td>\n",
       "      <td>10.681156</td>\n",
       "    </tr>\n",
       "    <tr>\n",
       "      <th>3</th>\n",
       "      <td>3</td>\n",
       "      <td>140.0</td>\n",
       "      <td>11.076791</td>\n",
       "    </tr>\n",
       "    <tr>\n",
       "      <th>4</th>\n",
       "      <td>4</td>\n",
       "      <td>140.0</td>\n",
       "      <td>11.224663</td>\n",
       "    </tr>\n",
       "    <tr>\n",
       "      <th>...</th>\n",
       "      <td>...</td>\n",
       "      <td>...</td>\n",
       "      <td>...</td>\n",
       "    </tr>\n",
       "    <tr>\n",
       "      <th>1405</th>\n",
       "      <td>0</td>\n",
       "      <td>205.0</td>\n",
       "      <td>13.157822</td>\n",
       "    </tr>\n",
       "    <tr>\n",
       "      <th>1406</th>\n",
       "      <td>1</td>\n",
       "      <td>205.0</td>\n",
       "      <td>13.545046</td>\n",
       "    </tr>\n",
       "    <tr>\n",
       "      <th>1407</th>\n",
       "      <td>2</td>\n",
       "      <td>205.0</td>\n",
       "      <td>14.583050</td>\n",
       "    </tr>\n",
       "    <tr>\n",
       "      <th>1408</th>\n",
       "      <td>3</td>\n",
       "      <td>205.0</td>\n",
       "      <td>15.392530</td>\n",
       "    </tr>\n",
       "    <tr>\n",
       "      <th>1409</th>\n",
       "      <td>4</td>\n",
       "      <td>205.0</td>\n",
       "      <td>16.284399</td>\n",
       "    </tr>\n",
       "  </tbody>\n",
       "</table>\n",
       "<p>1410 rows × 3 columns</p>\n",
       "</div>"
      ],
      "text/plain": [
       "      Absolute time  trace      value\n",
       "0                 0  140.0  10.174491\n",
       "1                 1  140.0  10.353073\n",
       "2                 2  140.0  10.681156\n",
       "3                 3  140.0  11.076791\n",
       "4                 4  140.0  11.224663\n",
       "...             ...    ...        ...\n",
       "1405              0  205.0  13.157822\n",
       "1406              1  205.0  13.545046\n",
       "1407              2  205.0  14.583050\n",
       "1408              3  205.0  15.392530\n",
       "1409              4  205.0  16.284399\n",
       "\n",
       "[1410 rows x 3 columns]"
      ]
     },
     "execution_count": 10,
     "metadata": {},
     "output_type": "execute_result"
    }
   ],
   "source": [
    "df"
   ]
  },
  {
   "cell_type": "markdown",
   "metadata": {},
   "source": [
    "tidy data: transform column variables into values"
   ]
  }
 ],
 "metadata": {
  "kernelspec": {
   "display_name": "Python 3",
   "language": "python",
   "name": "python3"
  },
  "language_info": {
   "codemirror_mode": {
    "name": "ipython",
    "version": 3
   },
   "file_extension": ".py",
   "mimetype": "text/x-python",
   "name": "python",
   "nbconvert_exporter": "python",
   "pygments_lexer": "ipython3",
   "version": "3.7.6"
  }
 },
 "nbformat": 4,
 "nbformat_minor": 4
}
